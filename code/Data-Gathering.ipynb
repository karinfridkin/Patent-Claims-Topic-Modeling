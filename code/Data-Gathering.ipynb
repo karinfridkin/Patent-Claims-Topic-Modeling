{
 "cells": [
  {
   "cell_type": "code",
   "execution_count": 1,
   "id": "03f75dc7",
   "metadata": {},
   "outputs": [],
   "source": [
    "import requests\n",
    "from bs4 import BeautifulSoup\n",
    "import pickle\n",
    "import re"
   ]
  },
  {
   "cell_type": "code",
   "execution_count": 2,
   "id": "b48e6d0a",
   "metadata": {},
   "outputs": [],
   "source": [
    "# Scrapes transcript data \n",
    "def extract_claims_text(url):\n",
    "    response = requests.get(url)\n",
    "    if response.status_code != 200:\n",
    "        print(\"Failed to retrieve data from:\", url)\n",
    "        return []\n",
    "\n",
    "    soup = BeautifulSoup(response.text, 'html.parser')\n",
    "    claims_elements = soup.find_all('div', {'class': 'claim-text'})\n",
    "    claims_texts = [claim_element.get_text() for claim_element in claims_elements]\n",
    "    combined_text = ' '.join(claims_texts)\n",
    "    \n",
    "    # Use regex to split claims based on the numbered pattern\n",
    "    claims = re.split(r'\\b\\d+\\.\\s+', combined_text)\n",
    "    \n",
    "    # Remove empty strings from the list\n",
    "    claims = [claim.strip() for claim in claims if claim.strip()]\n",
    "    \n",
    "    return claims\n",
    "    #return claims_texts"
   ]
  },
  {
   "cell_type": "code",
   "execution_count": 3,
   "id": "5255cc7e",
   "metadata": {},
   "outputs": [],
   "source": [
    "patent_urls = [\n",
    "    'https://patents.google.com/patent/GB2478972A/en?q=(phone)&oq=phone',\n",
    "    'https://patents.google.com/patent/US9634864B2/en?oq=US9634864B2',\n",
    "    'https://patents.google.com/patent/US9980046B2/en?oq=US9980046B2'\n",
    "]"
   ]
  },
  {
   "cell_type": "code",
   "execution_count": 4,
   "id": "5d78d14f",
   "metadata": {},
   "outputs": [],
   "source": [
    "all_claims = {}\n",
    "for i, url in enumerate(patent_urls, start=1):\n",
    "    claims = extract_claims_text(url)\n",
    "    all_claims[i] = claims"
   ]
  },
  {
   "cell_type": "code",
   "execution_count": 5,
   "id": "91cac7ed",
   "metadata": {},
   "outputs": [
    {
     "data": {
      "text/plain": [
       "{1: ['CLAIMS1. A wireless telephone apparatus comprising: a handset; an onioff-hook switch; a wireless communications module for establishing first and second cellular telephone calls via a base station; and means for generating an explicit call transfer command for sending to the base station in response to activation of the on-hook switch when the first and second wireless calls are established through the apparatus.',\n",
       "  'The apparatus of claim 1, ftirther comprising a body having a cradle for the handset, wherein the onloff hook switch operates in response to placing the handset in the cradle.',\n",
       "  'The apparatus of claim 1, 2 or 3, ftirther comprising: call receiving means for receiving a first call from a calling party; call initiating means for entering a call initiation mode, in response to activation of a first predetermined button, for initiating a second call; and transfer means for putting the first call on hold, initiating the second call, and toggling, in response to activation of the first predetermined button, between the first and second calls.',\n",
       "  'The apparatus of claim 3, wherein the first predetermined button is a redial button.',\n",
       "  'The apparatus of claim 3 or 4, wherein the transfer means toggles between the first and second calls by putting either the first or the second call on hold.',\n",
       "  'The apparatus of any one of claims 3 to 5, further comprising means for enabling a phonebook lookup operation when in the call initiation mode.',\n",
       "  'The apparatus of any one of claims 3 to 6, wherein the call initiation mode and a dialling mode are entered using the first predetermined button.',\n",
       "  'The apparatus of any one of the preceding claims, further comprising display means for displaying first and second icons adjacent information relating to the first and second calls respectively, the first and second icons being adapted to switch when toggling between calls.',\n",
       "  'The apparatus of claim 8, further comprising selection means for selecting information displayed on the display means.',\n",
       "  'The apparatus of claim 8 or 9, wherein the transfer means is adapted to initiate a call to a second party whose information is displayed on the display means.',\n",
       "  'The apparatus of any one of claims 3 to 10, further comprising a second predetermined button which ends an active call and reverts to a call on hold.',\n",
       "  'The apparatus of claim 11, wherein the second predetermined button is a clear button.',\n",
       "  'A method of effecting a call transfer comprising: establishing first and second cellular telephone calls at a wireless telephone apparatus, and generating an explicit call transfer command for sending to a base station in response to activation of an on-hook switch.',\n",
       "  'A communication apparatus as substantially herein before described with reference to the accompanying drawings in Figures 1 to'],\n",
       " 2: ['A Method for a Media Gateway in connection to a backbone, comprising the steps of: measuring a packet loss or a jitter associated with said backbone, receiving a call when the measured packet loss exceeds a predefined packet loss threshold or when the measured jitter exceeds a predefined jitter threshold for said backbone; detecting an indication associated with the call, wherein the indication is based on a time period associated with the predefined packet loss threshold or the predefined jitter threshold, and wherein the indication indicates that the measured packet loss exceeding the predefined packet loss threshold or the measured jitter exceeding the predefined jitter threshold is acceptable for the call for said time period; based at least partially on the measured packet loss or the measured jitter and said indication associated with the call, deciding whether said call is admitted to be routed via said backbone; and adjusting the Quality of Service (QoS) level for said call when deciding said call is admitted via said backbone.',\n",
       "  'The method according to claim 1, wherein said indication is received from an external source such as a Mobile Switching Centre Server.',\n",
       "  'The method according to claim 1, wherein said indication is received in a Gateway Control Protocol (GCP) message.',\n",
       "  'The method according to claim 3, wherein said indication is a priority value within the GCP message.',\n",
       "  'The method according to claim 3, wherein said GCP message is a context request.',\n",
       "  'The method according to claim 1, wherein said indication is received from an internal source.',\n",
       "  'The method according to claim 1, further comprising routing said call through a second backbone further connected to said media gateway.',\n",
       "  'The method according to claim 6, wherein said internal source is a calendar.',\n",
       "  'A Method for a Mobile Switching Centre Server in connection to a backbone, comprising the steps of: receiving a call set-up request associated with said backbone; detecting that the call set-up should be performed by a Media Gateway even when the measured packet loss is above a predefined packet loss threshold or when the measured jitter is above a predefined jitter threshold for said backbone; and providing an indication associated with the call to said Media Gateway, wherein the indication is based on a time period associated with the predefined packet loss threshold or the predefined jitter threshold, and wherein the indication indicates that the packet loss measurement above the predefined packet loss threshold or that the jitter measurement above the predefined jitter threshold is acceptable for said time period, and further indicating to admit the call via said backbone with a lower Quality of service accordingly, wherein said indication is received in a Gateway Control Protocol (GCP) message.',\n",
       "  'The method according to claim 9, wherein said step of detecting comprises: measuring a call gradient by analyzing call set-up events overtime, and detecting that the call set-up should be performed even when the measured packet loss is above a predefined packet loss threshold and/or when the measured jitter is above a predefined jitter threshold, when said gradient is above a predefined value.',\n",
       "  'The method according to claim 9, wherein said step of detecting further comprises: receiving an indication that a measured packet loss above the predefined packet loss threshold or a measured jitter above the predefined jitter threshold for an originator of said call is acceptable.',\n",
       "  'The method according to claim 9, wherein said step of detecting further comprises: receiving an indication that a measured packet loss above the predefined packet loss threshold or a measured jitter above the predefined jitter threshold for the destination of said call is acceptable.',\n",
       "  'A Media Gateway comprising: means for connecting to a backbone; said means for connecting are configured to receive a call; processing means configured to measure a packet loss or a jitter for said backbone; said processing means are further configured to detect an indication associated with the call, wherein the indication is based on a time period associated with the predefined packet loss threshold or the predefined jitter threshold, and wherein the indication indicates that the measured packet loss above a predefined packet loss threshold or the measured jitter above a predefined jitter threshold is acceptable for said time period; said processing means are further configured to decide based at least partially on the measured packet loss or the measured jitter and said detected indication whether said call is admitted to be routed via said backbone even if the measured packet loss exceeds the predefined packet loss threshold or if the measured jitter exceeds the predefined jitter threshold; and said processing means are further configured to adjust the Quality of Service (QoS) level for said call when deciding said call is admitted to be routed via said backbone, wherein said indication is received in a Gateway Control Protocol (GCP) message.',\n",
       "  'The Media Gateway according to claim 13, wherein said means for connecting to said backbone are further configured to receive said indication from an external source such as a Mobile Switching Centre Server.',\n",
       "  'The Media Gateway according to claim 13, further comprising an internal source for providing said indication.',\n",
       "  'The Media Gateway according to claim 14, wherein said means for deciding are further configured to route said call through a second backbone further connected to said media gateway.',\n",
       "  'A Mobile Switching Centre Server comprising: means for connecting to a backbone; said means for connecting are further configured to receive a call set-up request associated with said backbone; means for processing configured to detect that a call set-up should be performed by a Media Gateway even when a measured packet loss is above a predefined packet loss threshold or when a measured jitter is above a predefined jitter threshold for said backbone; and means for providing an indication associated with the call to the Media Gateway, wherein the indication is based on a time period associated with the predefined packet loss threshold or the predefined jitter threshold, and wherein the indication indicates that the measured packet loss above the predefined packet loss threshold or the measured jitter above the predefined jitter threshold is acceptable for said time period, and further indicating to admit the call via said backbone with a lower Quality of service accordingly.',\n",
       "  'The Mobile Switching Centre Server according to claim 17 wherein: said means for processing are further configured to measure a call gradient by analyzing call set-up events over time; and said means for processing are further configured to detect that the call set-up should be performed even if the measured packet loss is above a predefined packet loss threshold or if the measured jitter is above a predefined jitter threshold if said gradient is above a predefined value.',\n",
       "  'The Mobile Switching Centre Server according to claim 17 wherein said means for processing are further configured to receive an indication associated with the call indicating that a packet loss above the predefined packet loss threshold or a jitter above the predefined jitter threshold for an originator of said call is acceptable.',\n",
       "  'The Mobile Switching Centre Server according to claim 17 wherein said means for processing are further configured to receive an indication associated with the call indicating that a measured packet loss above the predefined packet loss threshold or a measured jitter above the predefined jitter threshold for a destination of said call is acceptable.'],\n",
       " 3: ['A system, comprising:\\na processor; and\\na memory that stores executable instructions that, when executed by the processor, facilitate performance of operations, comprising:\\nobtaining a pressure-in to signal-out transfer function representing a distortion of an output signal of a microphone corresponding to an input stimulus of a defined sound pressure level (SPL) that has been applied to the microphone;\\ncreating an ideal sine wave stimulus based on an amplitude of a time domain waveform representing the output signal and a fundamental frequency of the time domain waveform;\\ngenerating, based on a defined relationship between the ideal sine wave stimulus and the time domain waveform, an equation representing the pressure-in to signal-out transfer function representing the distortion of the output signal; and\\ninverting the equation to obtain an inverse transfer function for facilitating an application, by the microphone, of the inverse transfer function to the output signal to obtain a linearized output representing the input stimulus.\\n\\n a processor; and a memory that stores executable instructions that, when executed by the processor, facilitate performance of operations, comprising:\\nobtaining a pressure-in to signal-out transfer function representing a distortion of an output signal of a microphone corresponding to an input stimulus of a defined sound pressure level (SPL) that has been applied to the microphone;\\ncreating an ideal sine wave stimulus based on an amplitude of a time domain waveform representing the output signal and a fundamental frequency of the time domain waveform;\\ngenerating, based on a defined relationship between the ideal sine wave stimulus and the time domain waveform, an equation representing the pressure-in to signal-out transfer function representing the distortion of the output signal; and\\ninverting the equation to obtain an inverse transfer function for facilitating an application, by the microphone, of the inverse transfer function to the output signal to obtain a linearized output representing the input stimulus.\\n obtaining a pressure-in to signal-out transfer function representing a distortion of an output signal of a microphone corresponding to an input stimulus of a defined sound pressure level (SPL) that has been applied to the microphone; creating an ideal sine wave stimulus based on an amplitude of a time domain waveform representing the output signal and a fundamental frequency of the time domain waveform; generating, based on a defined relationship between the ideal sine wave stimulus and the time domain waveform, an equation representing the pressure-in to signal-out transfer function representing the distortion of the output signal; and inverting the equation to obtain an inverse transfer function for facilitating an application, by the microphone, of the inverse transfer function to the output signal to obtain a linearized output representing the input stimulus.',\n",
       "  'The system of claim 1, wherein the output signal is an output voltage, and wherein the obtaining comprises:\\nmeasuring the output voltage.\\n measuring the output voltage.',\n",
       "  'The system of claim 1, wherein the obtaining comprises:\\nderiving, during a simulation of a defined model of the microphone comprising production based parameters of the microphone, the output signal.\\n deriving, during a simulation of a defined model of the microphone comprising production based parameters of the microphone, the output signal.',\n",
       "  'The system of claim 1, wherein the obtaining comprises:\\nimporting output data of the time domain waveform representing the output signal; and\\nbased on the output data, obtaining properties of the time domain waveform comprising the amplitude of the time domain waveform and the fundamental frequency of the time domain waveform.\\n importing output data of the time domain waveform representing the output signal; and based on the output data, obtaining properties of the time domain waveform comprising the amplitude of the time domain waveform and the fundamental frequency of the time domain waveform.',\n",
       "  'The system of claim 1, wherein the defined relationship represents a voltage difference between the ideal sine wave stimulus and the time domain waveform with respect to a defined alignment of respective phases of the ideal sine wave stimulus and the time domain waveform.',\n",
       "  'The system of claim 1, wherein the microphone comprises a micro-electro-mechanical system (MEMS) microphone.',\n",
       "  'The system of claim 6, wherein the MEMS microphone comprises:\\na diaphragm that converts the SPL into an electrical signal;\\na single backplate capacitively coupled to a side of the diaphragm; and\\nan electronic amplifier that buffers the electrical signal to generate the output signal.\\n a diaphragm that converts the SPL into an electrical signal; a single backplate capacitively coupled to a side of the diaphragm; and an electronic amplifier that buffers the electrical signal to generate the output signal.',\n",
       "  'The system of claim 6, wherein the MEMS microphone comprises:\\na diaphragm that converts the SPL into an electrical signal;\\ndual backplates capacitively coupled to respective sides of the diaphragm; and\\nan electronic amplifier that buffers the electrical signal to generate the output signal.\\n a diaphragm that converts the SPL into an electrical signal; dual backplates capacitively coupled to respective sides of the diaphragm; and an electronic amplifier that buffers the electrical signal to generate the output signal.',\n",
       "  'The system of claim 1, wherein the distortion comprises odd-order harmonic distortion and even-order harmonic distortion.',\n",
       "  'The system of claim 9, wherein the distortion is not frequency dependent, and wherein the distortion is not time dependent.',\n",
       "  'A micro-electro-mechanical system (MEMS) microphone, comprising:\\na processor; and\\na memory that stores executable instructions that, when executed by the processor, facilitate performance of operations, comprising:\\ncreating an ideal sine wave stimulus representing an output signal of the MEMS microphone with respect to an input stimulus of a defined sound pressure level (SPL) that has been applied to the MEMS microphone, wherein the ideal sine wave stimulus is based on an amplitude of a time domain waveform representing the output signal and a fundamental frequency of the time domain waveform;\\nderiving, based on a defined relationship between the ideal sine wave stimulus and the time domain waveform, an equation of a transfer function representing a distortion of the output signal; and\\napplying, based on the equation, a linearization filter to the output signal to obtain a linearized output representing the input stimulus.\\n\\n a processor; and a memory that stores executable instructions that, when executed by the processor, facilitate performance of operations, comprising:\\ncreating an ideal sine wave stimulus representing an output signal of the MEMS microphone with respect to an input stimulus of a defined sound pressure level (SPL) that has been applied to the MEMS microphone, wherein the ideal sine wave stimulus is based on an amplitude of a time domain waveform representing the output signal and a fundamental frequency of the time domain waveform;\\nderiving, based on a defined relationship between the ideal sine wave stimulus and the time domain waveform, an equation of a transfer function representing a distortion of the output signal; and\\napplying, based on the equation, a linearization filter to the output signal to obtain a linearized output representing the input stimulus.\\n creating an ideal sine wave stimulus representing an output signal of the MEMS microphone with respect to an input stimulus of a defined sound pressure level (SPL) that has been applied to the MEMS microphone, wherein the ideal sine wave stimulus is based on an amplitude of a time domain waveform representing the output signal and a fundamental frequency of the time domain waveform; deriving, based on a defined relationship between the ideal sine wave stimulus and the time domain waveform, an equation of a transfer function representing a distortion of the output signal; and applying, based on the equation, a linearization filter to the output signal to obtain a linearized output representing the input stimulus.',\n",
       "  'The MEMS microphone of claim 11, wherein the output signal is an output voltage, and wherein the deriving the equation comprises:\\nobtaining output data of the time domain waveform representing the output voltage; and\\nbased on the output data, deriving properties of the time domain waveform comprising the amplitude of the time domain waveform and the fundamental frequency of the time domain waveform.\\n obtaining output data of the time domain waveform representing the output voltage; and based on the output data, deriving properties of the time domain waveform comprising the amplitude of the time domain waveform and the fundamental frequency of the time domain waveform.',\n",
       "  'The MEMS microphone of claim 11, further comprising:\\na diaphragm that converts the SPL into an electrical signal;\\na single backplate capacitively coupled to a side of the diaphragm; and\\nan electronic amplifier that buffers the electrical signal to generate the output signal.\\n a diaphragm that converts the SPL into an electrical signal; a single backplate capacitively coupled to a side of the diaphragm; and an electronic amplifier that buffers the electrical signal to generate the output signal.',\n",
       "  'The MEMS microphone of claim 11, further comprising:\\na diaphragm that converts the SPL into an electrical signal;\\ndual backplates capacitively coupled to respective sides of the diaphragm; and\\nan electronic amplifier that buffers the electrical signal to generate the output signal.\\n a diaphragm that converts the SPL into an electrical signal; dual backplates capacitively coupled to respective sides of the diaphragm; and an electronic amplifier that buffers the electrical signal to generate the output signal.',\n",
       "  'The MEMS microphone of claim 11, wherein the defined relationship represents a voltage difference between the ideal sine wave stimulus and the time domain waveform with respect to a defined alignment of respective phases of the ideal sine wave stimulus and the time domain waveform.',\n",
       "  'A method, comprising:\\ngenerating, by a system comprising a processor, a sine wave stimulus representing an output signal of a microphone with respect to an input stimulus that has been applied to the microphone, wherein the sine wave stimulus is based on an amplitude of a time domain waveform representing the output signal and a fundamental frequency of the time domain waveform;\\nselecting, by the system based on a defined relationship between the sine wave stimulus and the time domain waveform, an equation of a transfer function representing a distortion of the output signal; and\\nfacilitating, by the system, an application, by the microphone, of an inversion of the equation to the output signal to obtain a linearized output representing the input stimulus.\\n generating, by a system comprising a processor, a sine wave stimulus representing an output signal of a microphone with respect to an input stimulus that has been applied to the microphone, wherein the sine wave stimulus is based on an amplitude of a time domain waveform representing the output signal and a fundamental frequency of the time domain waveform; selecting, by the system based on a defined relationship between the sine wave stimulus and the time domain waveform, an equation of a transfer function representing a distortion of the output signal; and facilitating, by the system, an application, by the microphone, of an inversion of the equation to the output signal to obtain a linearized output representing the input stimulus.',\n",
       "  'The method of claim 16, wherein the generating the sine wave stimulus comprises:\\nobtaining data representing the output signal of the microphone; and\\ngenerating the sine wave stimulus having the amplitude of the time domain waveform and the fundamental frequency of the time domain waveform.\\n obtaining data representing the output signal of the microphone; and generating the sine wave stimulus having the amplitude of the time domain waveform and the fundamental frequency of the time domain waveform.',\n",
       "  'The method of claim 16, wherein the output signal is a voltage output, and wherein the selecting comprises:\\nmeasuring, by the system, the voltage output.\\n measuring, by the system, the voltage output.',\n",
       "  'The method of claim 16, wherein the output signal is a voltage output, and wherein the selecting comprises:\\nderiving, during a simulation of a defined model of the microphone based on defined production parameters corresponding to the microphone, the voltage output.\\n deriving, during a simulation of a defined model of the microphone based on defined production parameters corresponding to the microphone, the voltage output.',\n",
       "  'The method of claim 16, wherein the selecting comprises:\\nselecting the equation based on a voltage difference between the sine wave stimulus and the time domain waveform with respect to a defined alignment of respective phases of the sine wave stimulus and the time domain waveform.\\n selecting the equation based on a voltage difference between the sine wave stimulus and the time domain waveform with respect to a defined alignment of respective phases of the sine wave stimulus and the time domain waveform.']}"
      ]
     },
     "execution_count": 5,
     "metadata": {},
     "output_type": "execute_result"
    }
   ],
   "source": [
    "all_claims"
   ]
  },
  {
   "cell_type": "code",
   "execution_count": 6,
   "id": "d880f76a",
   "metadata": {},
   "outputs": [],
   "source": [
    "with open('all_claims.pkl', 'wb') as f:\n",
    "    pickle.dump(all_claims, f)"
   ]
  },
  {
   "cell_type": "code",
   "execution_count": null,
   "id": "3f2586d7",
   "metadata": {},
   "outputs": [],
   "source": []
  }
 ],
 "metadata": {
  "kernelspec": {
   "display_name": "Python 3 (ipykernel)",
   "language": "python",
   "name": "python3"
  },
  "language_info": {
   "codemirror_mode": {
    "name": "ipython",
    "version": 3
   },
   "file_extension": ".py",
   "mimetype": "text/x-python",
   "name": "python",
   "nbconvert_exporter": "python",
   "pygments_lexer": "ipython3",
   "version": "3.11.5"
  }
 },
 "nbformat": 4,
 "nbformat_minor": 5
}
